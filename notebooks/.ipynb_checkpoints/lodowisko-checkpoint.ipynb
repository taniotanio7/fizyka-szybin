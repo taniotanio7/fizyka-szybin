{
 "cells": [
  {
   "cell_type": "markdown",
   "metadata": {},
   "source": [
    "# Lodowisko\n",
    "Obliczymy współczynnik tarcia po jeździe na lodzie oraz masę stopionego przez nas lodu. <br>\n",
    "Poniżej przedstawione zostały obliczenia dla jednego z naszych łyżwiarzy (Maciek)."
   ]
  },
  {
   "cell_type": "markdown",
   "metadata": {},
   "source": [
    "## Obliczanie niewiadomej\n",
    "Ta funkcja oblicza niewiadomą w równaniach typu x = wiadoma * niewiadoma <br>\n",
    "Dzięki temu będziemy w stanie obliczyć współczynnik tarcia oraz masę stopionego lodu."
   ]
  },
  {
   "cell_type": "code",
   "execution_count": 4,
   "metadata": {},
   "outputs": [],
   "source": [
    "import math\n",
    "\n",
    "\n",
    "def oblicz_niewiadoma(wynik1, wynik2, przyblizenie=0.00001, poczatkowa_var=0.000001):\n",
    "    \"\"\"\n",
    "    Oblicz równanie w postaci x = wiadoma * niewiadoma\n",
    "\n",
    "    :param wynik1: Znana wartość\n",
    "    :param wynik2: Wartość z niewiadomą\n",
    "    :param przyblizenie: Przybliżenie jakie zostanie zastosowane, w celu określenia czy wartośc została obliczona\n",
    "    :param poczatkowa_var: Początkowa wartośc od jakiej pętla rozpoczyna dodawanie\n",
    "    :return: Szacowana wartość niewiadomej z\n",
    "    \"\"\"\n",
    "\n",
    "    u = poczatkowa_var\n",
    "    while not math.isclose(wynik1, wynik2 * u, rel_tol=przyblizenie):\n",
    "        try:\n",
    "            u += 0.000001\n",
    "            if u > wynik1 / 100:\n",
    "                u = None\n",
    "                print(\"Obliczenia nierealne. Sprawdź przybliżenie.\")\n",
    "                break\n",
    "        except KeyboardInterrupt:\n",
    "            u = None\n",
    "            print(\"Przerwano obliczenia\")\n",
    "            break\n",
    "\n",
    "    return u"
   ]
  },
  {
   "cell_type": "markdown",
   "metadata": {},
   "source": [
    "### Współczynnik tarcia\n",
    "**równanie1** - wynik z równania μmgs <br>\n",
    "**praca** - wynik z równania mv^2 / 2"
   ]
  },
  {
   "cell_type": "code",
   "execution_count": 5,
   "metadata": {},
   "outputs": [
    {
     "name": "stdout",
     "output_type": "stream",
     "text": [
      "Współczynnik tarcia (μ) 0.05366000000003301\n",
      "Błąd obliczeń 0.0020000006338705134\n"
     ]
    }
   ],
   "source": [
    "rownanie1 = 19200\n",
    "praca = 1030.27\n",
    "wspolczynnik_tarcia = oblicz_niewiadoma(praca, rownanie1)\n",
    "print(\"Współczynnik tarcia (μ)\", wspolczynnik_tarcia)\n",
    "print(\"Błąd obliczeń\", wspolczynnik_tarcia * rownanie1 - praca)"
   ]
  },
  {
   "cell_type": "markdown",
   "metadata": {},
   "source": [
    "### Masa stopionego lodu\n",
    "**Ct** - ciepło topnienia lodu <br>\n",
    "**m** - masa stopionego lodu"
   ]
  },
  {
   "cell_type": "code",
   "execution_count": 6,
   "metadata": {},
   "outputs": [
    {
     "name": "stdout",
     "output_type": "stream",
     "text": [
      "Masa 0.0030820000000000847\n",
      "Błąd obliczeń 0.8819999999716401\n"
     ]
    }
   ],
   "source": [
    "Ct = 334000\n",
    "m = oblicz_niewiadoma(praca, Ct, przyblizenie=0.001)\n",
    "print(\"Masa\", m)\n",
    "print(\"Błąd obliczeń\", math.fabs(m * Ct - praca))"
   ]
  },
  {
   "cell_type": "markdown",
   "metadata": {},
   "source": [
    "## Obliczenia dla pozostałych osób"
   ]
  },
  {
   "cell_type": "code",
   "execution_count": 7,
   "metadata": {},
   "outputs": [],
   "source": [
    "import pandas as pd\n",
    "import numpy as np"
   ]
  },
  {
   "cell_type": "code",
   "execution_count": 39,
   "metadata": {},
   "outputs": [],
   "source": [
    "index = ['Glos',\n",
    " 'Przemek',\n",
    " 'Kaczmarzyk',\n",
    " 'Penkala',\n",
    " 'Cieślar',\n",
    " 'Masłowski',\n",
    " 'Miodoński',\n",
    " 'Miler',\n",
    " 'Moskała']\n",
    "\n",
    "data = {\n",
    "    't1': pd.Series([13.98, 7.62, 11.87, 13.43, 12.0, 7.45, 6.64, 8.39, 9.39], index=index),\n",
    "    't2': pd.Series([13.0, 7.13, 12.2, 13.2, 11.26, 8.05, 6.19, 8.4, 9.65], index=index),\n",
    "    't3': pd.Series([14.01, 7.63, 12.43, 13.3, 11.55, 8.37, 5.76, 8.8, 10.07], index=index),\n",
    "    't4': pd.Series([13.69, 7.44, 12.47, 13.7, 12.1, 7.77, 6.13, 8.89, 9.5], index=index),\n",
    "    's': pd.Series([28, 17, 30, 30, 25, 20, 12, 20, 25], index=index),  # droga\n",
    "    'm_provided': pd.Series([100.0, 82.5, 96.0, 82.5, 75.0, 66.0, 69.0, 66.0, 76.8], index=index)\n",
    "    # podana masa przez łyżwiarza\n",
    "}"
   ]
  },
  {
   "cell_type": "code",
   "execution_count": 40,
   "metadata": {},
   "outputs": [],
   "source": [
    "df = pd.DataFrame(data)"
   ]
  },
  {
   "cell_type": "code",
   "execution_count": 41,
   "metadata": {},
   "outputs": [
    {
     "data": {
      "text/html": [
       "<div>\n",
       "<style scoped>\n",
       "    .dataframe tbody tr th:only-of-type {\n",
       "        vertical-align: middle;\n",
       "    }\n",
       "\n",
       "    .dataframe tbody tr th {\n",
       "        vertical-align: top;\n",
       "    }\n",
       "\n",
       "    .dataframe thead th {\n",
       "        text-align: right;\n",
       "    }\n",
       "</style>\n",
       "<table border=\"1\" class=\"dataframe\">\n",
       "  <thead>\n",
       "    <tr style=\"text-align: right;\">\n",
       "      <th></th>\n",
       "      <th>t1</th>\n",
       "      <th>t2</th>\n",
       "      <th>t3</th>\n",
       "      <th>t4</th>\n",
       "    </tr>\n",
       "  </thead>\n",
       "  <tbody>\n",
       "    <tr>\n",
       "      <th>Glos</th>\n",
       "      <td>13.98</td>\n",
       "      <td>13.00</td>\n",
       "      <td>14.01</td>\n",
       "      <td>13.69</td>\n",
       "    </tr>\n",
       "    <tr>\n",
       "      <th>Przemek</th>\n",
       "      <td>7.62</td>\n",
       "      <td>7.13</td>\n",
       "      <td>7.63</td>\n",
       "      <td>7.44</td>\n",
       "    </tr>\n",
       "    <tr>\n",
       "      <th>Kaczmarzyk</th>\n",
       "      <td>11.87</td>\n",
       "      <td>12.20</td>\n",
       "      <td>12.43</td>\n",
       "      <td>12.47</td>\n",
       "    </tr>\n",
       "    <tr>\n",
       "      <th>Penkala</th>\n",
       "      <td>13.43</td>\n",
       "      <td>13.20</td>\n",
       "      <td>13.30</td>\n",
       "      <td>13.70</td>\n",
       "    </tr>\n",
       "    <tr>\n",
       "      <th>Cieślar</th>\n",
       "      <td>12.00</td>\n",
       "      <td>11.26</td>\n",
       "      <td>11.55</td>\n",
       "      <td>12.10</td>\n",
       "    </tr>\n",
       "    <tr>\n",
       "      <th>Masłowski</th>\n",
       "      <td>7.45</td>\n",
       "      <td>8.05</td>\n",
       "      <td>8.37</td>\n",
       "      <td>7.77</td>\n",
       "    </tr>\n",
       "    <tr>\n",
       "      <th>Miodoński</th>\n",
       "      <td>6.64</td>\n",
       "      <td>6.19</td>\n",
       "      <td>5.76</td>\n",
       "      <td>6.13</td>\n",
       "    </tr>\n",
       "    <tr>\n",
       "      <th>Miler</th>\n",
       "      <td>8.39</td>\n",
       "      <td>8.40</td>\n",
       "      <td>8.80</td>\n",
       "      <td>8.89</td>\n",
       "    </tr>\n",
       "    <tr>\n",
       "      <th>Moskała</th>\n",
       "      <td>9.39</td>\n",
       "      <td>9.65</td>\n",
       "      <td>10.07</td>\n",
       "      <td>9.50</td>\n",
       "    </tr>\n",
       "  </tbody>\n",
       "</table>\n",
       "</div>"
      ],
      "text/plain": [
       "               t1     t2     t3     t4\n",
       "Glos        13.98  13.00  14.01  13.69\n",
       "Przemek      7.62   7.13   7.63   7.44\n",
       "Kaczmarzyk  11.87  12.20  12.43  12.47\n",
       "Penkala     13.43  13.20  13.30  13.70\n",
       "Cieślar     12.00  11.26  11.55  12.10\n",
       "Masłowski    7.45   8.05   8.37   7.77\n",
       "Miodoński    6.64   6.19   5.76   6.13\n",
       "Miler        8.39   8.40   8.80   8.89\n",
       "Moskała      9.39   9.65  10.07   9.50"
      ]
     },
     "execution_count": 41,
     "metadata": {},
     "output_type": "execute_result"
    }
   ],
   "source": [
    "times = df.loc[:, ['t1', 't2', 't3', 't4']]  # Show only time related dataframes\n",
    "times"
   ]
  },
  {
   "cell_type": "markdown",
   "metadata": {},
   "source": [
    "### Obliczanie średniego czasu jazdy"
   ]
  },
  {
   "cell_type": "code",
   "execution_count": 42,
   "metadata": {},
   "outputs": [],
   "source": [
    "time_avg = times.mean(axis=1)"
   ]
  },
  {
   "cell_type": "code",
   "execution_count": 43,
   "metadata": {},
   "outputs": [
    {
     "data": {
      "text/plain": [
       "Glos          13.6700\n",
       "Przemek        7.4550\n",
       "Kaczmarzyk    12.2425\n",
       "Penkala       13.4075\n",
       "Cieślar       11.7275\n",
       "Masłowski      7.9100\n",
       "Miodoński      6.1800\n",
       "Miler          8.6200\n",
       "Moskała        9.6525\n",
       "dtype: float64"
      ]
     },
     "execution_count": 43,
     "metadata": {},
     "output_type": "execute_result"
    }
   ],
   "source": [
    "time_avg"
   ]
  },
  {
   "cell_type": "code",
   "execution_count": 44,
   "metadata": {},
   "outputs": [],
   "source": [
    "df['t_avg'] = time_avg"
   ]
  },
  {
   "cell_type": "code",
   "execution_count": 45,
   "metadata": {},
   "outputs": [
    {
     "data": {
      "text/html": [
       "<div>\n",
       "<style scoped>\n",
       "    .dataframe tbody tr th:only-of-type {\n",
       "        vertical-align: middle;\n",
       "    }\n",
       "\n",
       "    .dataframe tbody tr th {\n",
       "        vertical-align: top;\n",
       "    }\n",
       "\n",
       "    .dataframe thead th {\n",
       "        text-align: right;\n",
       "    }\n",
       "</style>\n",
       "<table border=\"1\" class=\"dataframe\">\n",
       "  <thead>\n",
       "    <tr style=\"text-align: right;\">\n",
       "      <th></th>\n",
       "      <th>t1</th>\n",
       "      <th>t2</th>\n",
       "      <th>t3</th>\n",
       "      <th>t4</th>\n",
       "      <th>t_avg</th>\n",
       "    </tr>\n",
       "  </thead>\n",
       "  <tbody>\n",
       "    <tr>\n",
       "      <th>Glos</th>\n",
       "      <td>13.98</td>\n",
       "      <td>13.00</td>\n",
       "      <td>14.01</td>\n",
       "      <td>13.69</td>\n",
       "      <td>13.6700</td>\n",
       "    </tr>\n",
       "    <tr>\n",
       "      <th>Przemek</th>\n",
       "      <td>7.62</td>\n",
       "      <td>7.13</td>\n",
       "      <td>7.63</td>\n",
       "      <td>7.44</td>\n",
       "      <td>7.4550</td>\n",
       "    </tr>\n",
       "    <tr>\n",
       "      <th>Kaczmarzyk</th>\n",
       "      <td>11.87</td>\n",
       "      <td>12.20</td>\n",
       "      <td>12.43</td>\n",
       "      <td>12.47</td>\n",
       "      <td>12.2425</td>\n",
       "    </tr>\n",
       "    <tr>\n",
       "      <th>Penkala</th>\n",
       "      <td>13.43</td>\n",
       "      <td>13.20</td>\n",
       "      <td>13.30</td>\n",
       "      <td>13.70</td>\n",
       "      <td>13.4075</td>\n",
       "    </tr>\n",
       "    <tr>\n",
       "      <th>Cieślar</th>\n",
       "      <td>12.00</td>\n",
       "      <td>11.26</td>\n",
       "      <td>11.55</td>\n",
       "      <td>12.10</td>\n",
       "      <td>11.7275</td>\n",
       "    </tr>\n",
       "    <tr>\n",
       "      <th>Masłowski</th>\n",
       "      <td>7.45</td>\n",
       "      <td>8.05</td>\n",
       "      <td>8.37</td>\n",
       "      <td>7.77</td>\n",
       "      <td>7.9100</td>\n",
       "    </tr>\n",
       "    <tr>\n",
       "      <th>Miodoński</th>\n",
       "      <td>6.64</td>\n",
       "      <td>6.19</td>\n",
       "      <td>5.76</td>\n",
       "      <td>6.13</td>\n",
       "      <td>6.1800</td>\n",
       "    </tr>\n",
       "    <tr>\n",
       "      <th>Miler</th>\n",
       "      <td>8.39</td>\n",
       "      <td>8.40</td>\n",
       "      <td>8.80</td>\n",
       "      <td>8.89</td>\n",
       "      <td>8.6200</td>\n",
       "    </tr>\n",
       "    <tr>\n",
       "      <th>Moskała</th>\n",
       "      <td>9.39</td>\n",
       "      <td>9.65</td>\n",
       "      <td>10.07</td>\n",
       "      <td>9.50</td>\n",
       "      <td>9.6525</td>\n",
       "    </tr>\n",
       "  </tbody>\n",
       "</table>\n",
       "</div>"
      ],
      "text/plain": [
       "               t1     t2     t3     t4    t_avg\n",
       "Glos        13.98  13.00  14.01  13.69  13.6700\n",
       "Przemek      7.62   7.13   7.63   7.44   7.4550\n",
       "Kaczmarzyk  11.87  12.20  12.43  12.47  12.2425\n",
       "Penkala     13.43  13.20  13.30  13.70  13.4075\n",
       "Cieślar     12.00  11.26  11.55  12.10  11.7275\n",
       "Masłowski    7.45   8.05   8.37   7.77   7.9100\n",
       "Miodoński    6.64   6.19   5.76   6.13   6.1800\n",
       "Miler        8.39   8.40   8.80   8.89   8.6200\n",
       "Moskała      9.39   9.65  10.07   9.50   9.6525"
      ]
     },
     "execution_count": 45,
     "metadata": {},
     "output_type": "execute_result"
    }
   ],
   "source": [
    "df.loc[:, ['t1', 't2', 't3', 't4', 't_avg']]"
   ]
  },
  {
   "cell_type": "markdown",
   "metadata": {},
   "source": [
    "### Obliczenia\n",
    "#### Prędkość"
   ]
  },
  {
   "cell_type": "code",
   "execution_count": 46,
   "metadata": {},
   "outputs": [],
   "source": [
    "def oblicz_predkosc(droga, czas):\n",
    "    a = droga / (0.5 * pow(czas, 2))\n",
    "    return a * czas"
   ]
  },
  {
   "cell_type": "code",
   "execution_count": 47,
   "metadata": {},
   "outputs": [],
   "source": [
    "df['v'] = df.apply(lambda x: oblicz_predkosc(x['s'], x['t_avg']), axis=1)"
   ]
  },
  {
   "cell_type": "code",
   "execution_count": 48,
   "metadata": {},
   "outputs": [
    {
     "data": {
      "text/plain": [
       "Glos          4.096562\n",
       "Przemek       4.560698\n",
       "Kaczmarzyk    4.900960\n",
       "Penkala       4.475107\n",
       "Cieślar       4.263483\n",
       "Masłowski     5.056890\n",
       "Miodoński     3.883495\n",
       "Miler         4.640371\n",
       "Moskała       5.180005\n",
       "Name: v, dtype: float64"
      ]
     },
     "execution_count": 48,
     "metadata": {},
     "output_type": "execute_result"
    }
   ],
   "source": [
    "df.loc[:, 'v']"
   ]
  },
  {
   "cell_type": "markdown",
   "metadata": {},
   "source": [
    "#### Współczynnik tarcia\n",
    "μ * mgs (J) <br>\n",
    "Znajdujemy μ"
   ]
  },
  {
   "cell_type": "code",
   "execution_count": 49,
   "metadata": {},
   "outputs": [],
   "source": [
    "PRZYSPIESZENIE_ZIEMSKIE = 10  # m/s^2\n",
    "def oblicz_tarcie(masa, droga, predkosc):\n",
    "    rownanie1 = masa * PRZYSPIESZENIE_ZIEMSKIE * droga\n",
    "    praca = masa * pow(predkosc, 2) / 2\n",
    "    return oblicz_niewiadoma(praca, rownanie1)"
   ]
  },
  {
   "cell_type": "code",
   "execution_count": 50,
   "metadata": {},
   "outputs": [
    {
     "name": "stdout",
     "output_type": "stream",
     "text": [
      "Przerwano obliczenia\n",
      "Obliczenia nierealne. Sprawdź przybliżenie.\n",
      "Obliczenia nierealne. Sprawdź przybliżenie.\n"
     ]
    }
   ],
   "source": [
    "df['μ'] = df.apply(lambda x: oblicz_tarcie(masa=x['m_provided'], droga=x['s'], predkosc=x['v']), axis=1)"
   ]
  },
  {
   "cell_type": "code",
   "execution_count": 51,
   "metadata": {},
   "outputs": [
    {
     "data": {
      "text/plain": [
       "Glos               NaN\n",
       "Przemek       0.061176\n",
       "Kaczmarzyk    0.040032\n",
       "Penkala            NaN\n",
       "Cieślar            NaN\n",
       "Masłowski     0.063930\n",
       "Miodoński     0.062840\n",
       "Miler         0.053833\n",
       "Moskała       0.053665\n",
       "Name: μ, dtype: float64"
      ]
     },
     "execution_count": 51,
     "metadata": {},
     "output_type": "execute_result"
    }
   ],
   "source": [
    "df['μ']"
   ]
  },
  {
   "cell_type": "markdown",
   "metadata": {},
   "source": [
    "#### Masa stopionego lodu\n",
    "Ct * m <br>\n",
    "Znajdujemy m, podana w gramach"
   ]
  },
  {
   "cell_type": "code",
   "execution_count": 52,
   "metadata": {},
   "outputs": [],
   "source": [
    "CIEPLO_TOPNIENIA_LODU = 334000  # J/kg\n",
    "def oblicz_mase_lodu(masa, predkosc):\n",
    "    praca = masa * pow(predkosc, 2) / 2\n",
    "    return oblicz_niewiadoma(praca, CIEPLO_TOPNIENIA_LODU, przyblizenie=0.001) * 1000"
   ]
  },
  {
   "cell_type": "code",
   "execution_count": 53,
   "metadata": {},
   "outputs": [],
   "source": [
    "df['m_lodu'] = df.apply(lambda x: oblicz_mase_lodu(x['m_provided'], x['v']), axis=1)"
   ]
  },
  {
   "cell_type": "code",
   "execution_count": 54,
   "metadata": {},
   "outputs": [
    {
     "data": {
      "text/plain": [
       "Glos          2.510\n",
       "Przemek       2.567\n",
       "Kaczmarzyk    3.449\n",
       "Penkala       2.471\n",
       "Cieślar       2.039\n",
       "Masłowski     2.525\n",
       "Miodoński     1.557\n",
       "Miler         2.126\n",
       "Moskała       3.082\n",
       "Name: m_lodu, dtype: float64"
      ]
     },
     "execution_count": 54,
     "metadata": {},
     "output_type": "execute_result"
    }
   ],
   "source": [
    "df['m_lodu']"
   ]
  },
  {
   "cell_type": "markdown",
   "metadata": {},
   "source": [
    "## Wyniki końcowe\n",
    "Wyjaśnienie skrótów <br>\n",
    "\n",
    "| Skrót  | Wyjasnienie |\n",
    "| ------ | ------------------- |\n",
    "|t1...t4 | zmierzone czasy jazdy |\n",
    "|t_avg   | średni czas jazdy |\n",
    "|s       | przebyta droga |\n",
    "|m_provided | masa uczestnika (podana) |\n",
    "|v       | obliczona prędkość |\n",
    "|μ       | współczynnik tarcia |\n",
    "|m_lodu  | masa stopionego lodu |"
   ]
  },
  {
   "cell_type": "code",
   "execution_count": 55,
   "metadata": {},
   "outputs": [
    {
     "data": {
      "text/html": [
       "<div>\n",
       "<style scoped>\n",
       "    .dataframe tbody tr th:only-of-type {\n",
       "        vertical-align: middle;\n",
       "    }\n",
       "\n",
       "    .dataframe tbody tr th {\n",
       "        vertical-align: top;\n",
       "    }\n",
       "\n",
       "    .dataframe thead th {\n",
       "        text-align: right;\n",
       "    }\n",
       "</style>\n",
       "<table border=\"1\" class=\"dataframe\">\n",
       "  <thead>\n",
       "    <tr style=\"text-align: right;\">\n",
       "      <th></th>\n",
       "      <th>t1</th>\n",
       "      <th>t2</th>\n",
       "      <th>t3</th>\n",
       "      <th>t4</th>\n",
       "      <th>s</th>\n",
       "      <th>m_provided</th>\n",
       "      <th>t_avg</th>\n",
       "      <th>v</th>\n",
       "      <th>μ</th>\n",
       "      <th>m_lodu</th>\n",
       "    </tr>\n",
       "  </thead>\n",
       "  <tbody>\n",
       "    <tr>\n",
       "      <th>Glos</th>\n",
       "      <td>13.98</td>\n",
       "      <td>13.00</td>\n",
       "      <td>14.01</td>\n",
       "      <td>13.69</td>\n",
       "      <td>28</td>\n",
       "      <td>100.0</td>\n",
       "      <td>13.6700</td>\n",
       "      <td>4.096562</td>\n",
       "      <td>NaN</td>\n",
       "      <td>2.510</td>\n",
       "    </tr>\n",
       "    <tr>\n",
       "      <th>Przemek</th>\n",
       "      <td>7.62</td>\n",
       "      <td>7.13</td>\n",
       "      <td>7.63</td>\n",
       "      <td>7.44</td>\n",
       "      <td>17</td>\n",
       "      <td>82.5</td>\n",
       "      <td>7.4550</td>\n",
       "      <td>4.560698</td>\n",
       "      <td>0.061176</td>\n",
       "      <td>2.567</td>\n",
       "    </tr>\n",
       "    <tr>\n",
       "      <th>Kaczmarzyk</th>\n",
       "      <td>11.87</td>\n",
       "      <td>12.20</td>\n",
       "      <td>12.43</td>\n",
       "      <td>12.47</td>\n",
       "      <td>30</td>\n",
       "      <td>96.0</td>\n",
       "      <td>12.2425</td>\n",
       "      <td>4.900960</td>\n",
       "      <td>0.040032</td>\n",
       "      <td>3.449</td>\n",
       "    </tr>\n",
       "    <tr>\n",
       "      <th>Penkala</th>\n",
       "      <td>13.43</td>\n",
       "      <td>13.20</td>\n",
       "      <td>13.30</td>\n",
       "      <td>13.70</td>\n",
       "      <td>30</td>\n",
       "      <td>82.5</td>\n",
       "      <td>13.4075</td>\n",
       "      <td>4.475107</td>\n",
       "      <td>NaN</td>\n",
       "      <td>2.471</td>\n",
       "    </tr>\n",
       "    <tr>\n",
       "      <th>Cieślar</th>\n",
       "      <td>12.00</td>\n",
       "      <td>11.26</td>\n",
       "      <td>11.55</td>\n",
       "      <td>12.10</td>\n",
       "      <td>25</td>\n",
       "      <td>75.0</td>\n",
       "      <td>11.7275</td>\n",
       "      <td>4.263483</td>\n",
       "      <td>NaN</td>\n",
       "      <td>2.039</td>\n",
       "    </tr>\n",
       "    <tr>\n",
       "      <th>Masłowski</th>\n",
       "      <td>7.45</td>\n",
       "      <td>8.05</td>\n",
       "      <td>8.37</td>\n",
       "      <td>7.77</td>\n",
       "      <td>20</td>\n",
       "      <td>66.0</td>\n",
       "      <td>7.9100</td>\n",
       "      <td>5.056890</td>\n",
       "      <td>0.063930</td>\n",
       "      <td>2.525</td>\n",
       "    </tr>\n",
       "    <tr>\n",
       "      <th>Miodoński</th>\n",
       "      <td>6.64</td>\n",
       "      <td>6.19</td>\n",
       "      <td>5.76</td>\n",
       "      <td>6.13</td>\n",
       "      <td>12</td>\n",
       "      <td>69.0</td>\n",
       "      <td>6.1800</td>\n",
       "      <td>3.883495</td>\n",
       "      <td>0.062840</td>\n",
       "      <td>1.557</td>\n",
       "    </tr>\n",
       "    <tr>\n",
       "      <th>Miler</th>\n",
       "      <td>8.39</td>\n",
       "      <td>8.40</td>\n",
       "      <td>8.80</td>\n",
       "      <td>8.89</td>\n",
       "      <td>20</td>\n",
       "      <td>66.0</td>\n",
       "      <td>8.6200</td>\n",
       "      <td>4.640371</td>\n",
       "      <td>0.053833</td>\n",
       "      <td>2.126</td>\n",
       "    </tr>\n",
       "    <tr>\n",
       "      <th>Moskała</th>\n",
       "      <td>9.39</td>\n",
       "      <td>9.65</td>\n",
       "      <td>10.07</td>\n",
       "      <td>9.50</td>\n",
       "      <td>25</td>\n",
       "      <td>76.8</td>\n",
       "      <td>9.6525</td>\n",
       "      <td>5.180005</td>\n",
       "      <td>0.053665</td>\n",
       "      <td>3.082</td>\n",
       "    </tr>\n",
       "  </tbody>\n",
       "</table>\n",
       "</div>"
      ],
      "text/plain": [
       "               t1     t2     t3     t4   s  m_provided    t_avg         v  \\\n",
       "Glos        13.98  13.00  14.01  13.69  28       100.0  13.6700  4.096562   \n",
       "Przemek      7.62   7.13   7.63   7.44  17        82.5   7.4550  4.560698   \n",
       "Kaczmarzyk  11.87  12.20  12.43  12.47  30        96.0  12.2425  4.900960   \n",
       "Penkala     13.43  13.20  13.30  13.70  30        82.5  13.4075  4.475107   \n",
       "Cieślar     12.00  11.26  11.55  12.10  25        75.0  11.7275  4.263483   \n",
       "Masłowski    7.45   8.05   8.37   7.77  20        66.0   7.9100  5.056890   \n",
       "Miodoński    6.64   6.19   5.76   6.13  12        69.0   6.1800  3.883495   \n",
       "Miler        8.39   8.40   8.80   8.89  20        66.0   8.6200  4.640371   \n",
       "Moskała      9.39   9.65  10.07   9.50  25        76.8   9.6525  5.180005   \n",
       "\n",
       "                   μ  m_lodu  \n",
       "Glos             NaN   2.510  \n",
       "Przemek     0.061176   2.567  \n",
       "Kaczmarzyk  0.040032   3.449  \n",
       "Penkala          NaN   2.471  \n",
       "Cieślar          NaN   2.039  \n",
       "Masłowski   0.063930   2.525  \n",
       "Miodoński   0.062840   1.557  \n",
       "Miler       0.053833   2.126  \n",
       "Moskała     0.053665   3.082  "
      ]
     },
     "execution_count": 55,
     "metadata": {},
     "output_type": "execute_result"
    }
   ],
   "source": [
    "df"
   ]
  },
  {
   "cell_type": "code",
   "execution_count": null,
   "metadata": {},
   "outputs": [],
   "source": []
  }
 ],
 "metadata": {
  "kernelspec": {
   "display_name": "Python 3",
   "language": "python",
   "name": "python3"
  },
  "language_info": {
   "codemirror_mode": {
    "name": "ipython",
    "version": 3
   },
   "file_extension": ".py",
   "mimetype": "text/x-python",
   "name": "python",
   "nbconvert_exporter": "python",
   "pygments_lexer": "ipython3",
   "version": "3.7.2"
  }
 },
 "nbformat": 4,
 "nbformat_minor": 1
}
